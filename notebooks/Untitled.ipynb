{
 "cells": [
  {
   "cell_type": "code",
   "execution_count": 2,
   "metadata": {},
   "outputs": [],
   "source": [
    "import pandas\n",
    "import numpy as np\n",
    "from matplotlib import pyplot as plt\n",
    "\n",
    "from ipywidgets import interact"
   ]
  },
  {
   "cell_type": "markdown",
   "metadata": {},
   "source": [
    "# Prepare and merge"
   ]
  },
  {
   "cell_type": "code",
   "execution_count": 3,
   "metadata": {},
   "outputs": [],
   "source": [
    "df_dep = pandas.read_csv('../data/dpt2018.csv', sep=';', encoding='utf8', na_values=['XXXX', 'XX'])\n"
   ]
  },
  {
   "cell_type": "code",
   "execution_count": 4,
   "metadata": {},
   "outputs": [],
   "source": [
    "df_origin = pandas.read_csv('../data/Prenoms.csv', sep=';', encoding='latin1')"
   ]
  },
  {
   "cell_type": "code",
   "execution_count": 5,
   "metadata": {},
   "outputs": [],
   "source": [
    "df_dep['prenom'] = (df_dep.preusuel.str.lower().str.normalize('NFKD')\n",
    "                            .str.encode('ascii', errors='ignore')\n",
    "                            .str.decode('utf-8'))"
   ]
  },
  {
   "cell_type": "code",
   "execution_count": 6,
   "metadata": {},
   "outputs": [
    {
     "data": {
      "text/html": [
       "<div>\n",
       "<style scoped>\n",
       "    .dataframe tbody tr th:only-of-type {\n",
       "        vertical-align: middle;\n",
       "    }\n",
       "\n",
       "    .dataframe tbody tr th {\n",
       "        vertical-align: top;\n",
       "    }\n",
       "\n",
       "    .dataframe thead th {\n",
       "        text-align: right;\n",
       "    }\n",
       "</style>\n",
       "<table border=\"1\" class=\"dataframe\">\n",
       "  <thead>\n",
       "    <tr style=\"text-align: right;\">\n",
       "      <th></th>\n",
       "      <th>prenom</th>\n",
       "      <th>02_genre</th>\n",
       "      <th>langage</th>\n",
       "      <th>04_fréquence</th>\n",
       "    </tr>\n",
       "  </thead>\n",
       "  <tbody>\n",
       "    <tr>\n",
       "      <td>0</td>\n",
       "      <td>aaliyah</td>\n",
       "      <td>f</td>\n",
       "      <td>english (modern)</td>\n",
       "      <td>0.0</td>\n",
       "    </tr>\n",
       "    <tr>\n",
       "      <td>1</td>\n",
       "      <td>aapeli</td>\n",
       "      <td>m</td>\n",
       "      <td>finnish</td>\n",
       "      <td>0.0</td>\n",
       "    </tr>\n",
       "    <tr>\n",
       "      <td>2</td>\n",
       "      <td>aapo</td>\n",
       "      <td>m</td>\n",
       "      <td>finnish</td>\n",
       "      <td>0.0</td>\n",
       "    </tr>\n",
       "    <tr>\n",
       "      <td>3</td>\n",
       "      <td>aaren</td>\n",
       "      <td>m,f</td>\n",
       "      <td>english</td>\n",
       "      <td>0.0</td>\n",
       "    </tr>\n",
       "    <tr>\n",
       "      <td>4</td>\n",
       "      <td>aarne</td>\n",
       "      <td>m</td>\n",
       "      <td>finnish</td>\n",
       "      <td>0.0</td>\n",
       "    </tr>\n",
       "  </tbody>\n",
       "</table>\n",
       "</div>"
      ],
      "text/plain": [
       "    prenom 02_genre           langage  04_fréquence\n",
       "0  aaliyah        f  english (modern)           0.0\n",
       "1   aapeli        m           finnish           0.0\n",
       "2     aapo        m           finnish           0.0\n",
       "3    aaren      m,f           english           0.0\n",
       "4    aarne        m           finnish           0.0"
      ]
     },
     "execution_count": 6,
     "metadata": {},
     "output_type": "execute_result"
    }
   ],
   "source": [
    "df_origin.rename(columns={'01_prenom':'prenom', '03_langage':'langage'}, inplace=True)\n",
    "df_origin.drop(columns=['02_genre', '04_fréquence'])\n",
    "df_origin.head()"
   ]
  },
  {
   "cell_type": "code",
   "execution_count": 7,
   "metadata": {},
   "outputs": [],
   "source": [
    "df_merged = df_dep.merge(df_origin, on='prenom', how='inner')"
   ]
  },
  {
   "cell_type": "code",
   "execution_count": 8,
   "metadata": {},
   "outputs": [
    {
     "data": {
      "text/plain": [
       "(33483, 30832, 11626, 5067)"
      ]
     },
     "execution_count": 8,
     "metadata": {},
     "output_type": "execute_result"
    }
   ],
   "source": [
    "df_dep.preusuel.nunique(), df_dep.prenom.nunique(), df_origin.prenom.nunique(), df_merged.prenom.nunique()"
   ]
  },
  {
   "cell_type": "markdown",
   "metadata": {},
   "source": [
    "## Tendance temporelle"
   ]
  },
  {
   "cell_type": "code",
   "execution_count": 9,
   "metadata": {},
   "outputs": [
    {
     "data": {
      "text/html": [
       "<div>\n",
       "<style scoped>\n",
       "    .dataframe tbody tr th:only-of-type {\n",
       "        vertical-align: middle;\n",
       "    }\n",
       "\n",
       "    .dataframe tbody tr th {\n",
       "        vertical-align: top;\n",
       "    }\n",
       "\n",
       "    .dataframe thead th {\n",
       "        text-align: right;\n",
       "    }\n",
       "</style>\n",
       "<table border=\"1\" class=\"dataframe\">\n",
       "  <thead>\n",
       "    <tr style=\"text-align: right;\">\n",
       "      <th></th>\n",
       "      <th>sexe</th>\n",
       "      <th>preusuel</th>\n",
       "      <th>annais</th>\n",
       "      <th>dpt</th>\n",
       "      <th>nombre</th>\n",
       "      <th>prenom</th>\n",
       "      <th>02_genre</th>\n",
       "      <th>langage</th>\n",
       "      <th>04_fréquence</th>\n",
       "      <th>decade</th>\n",
       "    </tr>\n",
       "  </thead>\n",
       "  <tbody>\n",
       "    <tr>\n",
       "      <td>0</td>\n",
       "      <td>1</td>\n",
       "      <td>AARON</td>\n",
       "      <td>1962.0</td>\n",
       "      <td>75.0</td>\n",
       "      <td>3</td>\n",
       "      <td>aaron</td>\n",
       "      <td>m</td>\n",
       "      <td>english, biblical</td>\n",
       "      <td>1.37</td>\n",
       "      <td>1960.0</td>\n",
       "    </tr>\n",
       "    <tr>\n",
       "      <td>1</td>\n",
       "      <td>1</td>\n",
       "      <td>AARON</td>\n",
       "      <td>1976.0</td>\n",
       "      <td>75.0</td>\n",
       "      <td>3</td>\n",
       "      <td>aaron</td>\n",
       "      <td>m</td>\n",
       "      <td>english, biblical</td>\n",
       "      <td>1.37</td>\n",
       "      <td>1970.0</td>\n",
       "    </tr>\n",
       "    <tr>\n",
       "      <td>2</td>\n",
       "      <td>1</td>\n",
       "      <td>AARON</td>\n",
       "      <td>1982.0</td>\n",
       "      <td>75.0</td>\n",
       "      <td>3</td>\n",
       "      <td>aaron</td>\n",
       "      <td>m</td>\n",
       "      <td>english, biblical</td>\n",
       "      <td>1.37</td>\n",
       "      <td>1980.0</td>\n",
       "    </tr>\n",
       "    <tr>\n",
       "      <td>3</td>\n",
       "      <td>1</td>\n",
       "      <td>AARON</td>\n",
       "      <td>1984.0</td>\n",
       "      <td>75.0</td>\n",
       "      <td>3</td>\n",
       "      <td>aaron</td>\n",
       "      <td>m</td>\n",
       "      <td>english, biblical</td>\n",
       "      <td>1.37</td>\n",
       "      <td>1980.0</td>\n",
       "    </tr>\n",
       "    <tr>\n",
       "      <td>4</td>\n",
       "      <td>1</td>\n",
       "      <td>AARON</td>\n",
       "      <td>1985.0</td>\n",
       "      <td>75.0</td>\n",
       "      <td>5</td>\n",
       "      <td>aaron</td>\n",
       "      <td>m</td>\n",
       "      <td>english, biblical</td>\n",
       "      <td>1.37</td>\n",
       "      <td>1980.0</td>\n",
       "    </tr>\n",
       "    <tr>\n",
       "      <td>...</td>\n",
       "      <td>...</td>\n",
       "      <td>...</td>\n",
       "      <td>...</td>\n",
       "      <td>...</td>\n",
       "      <td>...</td>\n",
       "      <td>...</td>\n",
       "      <td>...</td>\n",
       "      <td>...</td>\n",
       "      <td>...</td>\n",
       "      <td>...</td>\n",
       "    </tr>\n",
       "    <tr>\n",
       "      <td>2381776</td>\n",
       "      <td>2</td>\n",
       "      <td>ZUZANNA</td>\n",
       "      <td>2013.0</td>\n",
       "      <td>75.0</td>\n",
       "      <td>3</td>\n",
       "      <td>zuzanna</td>\n",
       "      <td>f</td>\n",
       "      <td>polish</td>\n",
       "      <td>0.00</td>\n",
       "      <td>2010.0</td>\n",
       "    </tr>\n",
       "    <tr>\n",
       "      <td>2381777</td>\n",
       "      <td>2</td>\n",
       "      <td>ZUZANNA</td>\n",
       "      <td>2015.0</td>\n",
       "      <td>75.0</td>\n",
       "      <td>4</td>\n",
       "      <td>zuzanna</td>\n",
       "      <td>f</td>\n",
       "      <td>polish</td>\n",
       "      <td>0.00</td>\n",
       "      <td>2010.0</td>\n",
       "    </tr>\n",
       "    <tr>\n",
       "      <td>2381778</td>\n",
       "      <td>2</td>\n",
       "      <td>ZUZANNA</td>\n",
       "      <td>2015.0</td>\n",
       "      <td>94.0</td>\n",
       "      <td>3</td>\n",
       "      <td>zuzanna</td>\n",
       "      <td>f</td>\n",
       "      <td>polish</td>\n",
       "      <td>0.00</td>\n",
       "      <td>2010.0</td>\n",
       "    </tr>\n",
       "    <tr>\n",
       "      <td>2381779</td>\n",
       "      <td>2</td>\n",
       "      <td>ZUZANNA</td>\n",
       "      <td>2018.0</td>\n",
       "      <td>75.0</td>\n",
       "      <td>4</td>\n",
       "      <td>zuzanna</td>\n",
       "      <td>f</td>\n",
       "      <td>polish</td>\n",
       "      <td>0.00</td>\n",
       "      <td>2010.0</td>\n",
       "    </tr>\n",
       "    <tr>\n",
       "      <td>2381780</td>\n",
       "      <td>2</td>\n",
       "      <td>ZUZANNA</td>\n",
       "      <td>NaN</td>\n",
       "      <td>NaN</td>\n",
       "      <td>109</td>\n",
       "      <td>zuzanna</td>\n",
       "      <td>f</td>\n",
       "      <td>polish</td>\n",
       "      <td>0.00</td>\n",
       "      <td>NaN</td>\n",
       "    </tr>\n",
       "  </tbody>\n",
       "</table>\n",
       "<p>2381781 rows × 10 columns</p>\n",
       "</div>"
      ],
      "text/plain": [
       "         sexe preusuel  annais   dpt  nombre   prenom 02_genre  \\\n",
       "0           1    AARON  1962.0  75.0       3    aaron        m   \n",
       "1           1    AARON  1976.0  75.0       3    aaron        m   \n",
       "2           1    AARON  1982.0  75.0       3    aaron        m   \n",
       "3           1    AARON  1984.0  75.0       3    aaron        m   \n",
       "4           1    AARON  1985.0  75.0       5    aaron        m   \n",
       "...       ...      ...     ...   ...     ...      ...      ...   \n",
       "2381776     2  ZUZANNA  2013.0  75.0       3  zuzanna        f   \n",
       "2381777     2  ZUZANNA  2015.0  75.0       4  zuzanna        f   \n",
       "2381778     2  ZUZANNA  2015.0  94.0       3  zuzanna        f   \n",
       "2381779     2  ZUZANNA  2018.0  75.0       4  zuzanna        f   \n",
       "2381780     2  ZUZANNA     NaN   NaN     109  zuzanna        f   \n",
       "\n",
       "                   langage  04_fréquence  decade  \n",
       "0        english, biblical          1.37  1960.0  \n",
       "1        english, biblical          1.37  1970.0  \n",
       "2        english, biblical          1.37  1980.0  \n",
       "3        english, biblical          1.37  1980.0  \n",
       "4        english, biblical          1.37  1980.0  \n",
       "...                    ...           ...     ...  \n",
       "2381776             polish          0.00  2010.0  \n",
       "2381777             polish          0.00  2010.0  \n",
       "2381778             polish          0.00  2010.0  \n",
       "2381779             polish          0.00  2010.0  \n",
       "2381780             polish          0.00     NaN  \n",
       "\n",
       "[2381781 rows x 10 columns]"
      ]
     },
     "execution_count": 9,
     "metadata": {},
     "output_type": "execute_result"
    }
   ],
   "source": [
    "df_merged.assign(decade = df_merged.annais // 10 * 10)"
   ]
  },
  {
   "cell_type": "code",
   "execution_count": 10,
   "metadata": {},
   "outputs": [
    {
     "data": {
      "text/plain": [
       "<matplotlib.axes._subplots.AxesSubplot at 0x7fa1e7f14450>"
      ]
     },
     "execution_count": 10,
     "metadata": {},
     "output_type": "execute_result"
    },
    {
     "data": {
      "image/png": "[encoded data removed]",
      "text/plain": [
       "<Figure size 432x288 with 1 Axes>"
      ]
     },
     "metadata": {
      "needs_background": "light"
     },
     "output_type": "display_data"
    }
   ],
   "source": [
    "df_merged.groupby('annais').langage.nunique().plot(color=\"orange\")"
   ]
  },
  {
   "cell_type": "markdown",
   "metadata": {},
   "source": [
    "nombre de prenom francais / vs nombre total par an "
   ]
  },
  {
   "cell_type": "code",
   "execution_count": 11,
   "metadata": {},
   "outputs": [
    {
     "data": {
      "image/png": "[encoded data removed]",
      "text/plain": [
       "<Figure size 432x288 with 1 Axes>"
      ]
     },
     "metadata": {
      "needs_background": "light"
     },
     "output_type": "display_data"
    }
   ],
   "source": [
    "fig, ax = plt.subplots()\n",
    "\n",
    "(df_merged.dropna().loc[\n",
    "    df_merged.dropna().langage == 'french']\n",
    "     .groupby('annais').nombre.sum().plot(ax=ax, label='français'))\n",
    "\n",
    "(df_merged.dropna().groupby('annais').nombre.sum().plot(ax=ax, label='all'))\n",
    "\n",
    "plt.legend()\n",
    "plt.show()"
   ]
  },
  {
   "cell_type": "code",
   "execution_count": 12,
   "metadata": {},
   "outputs": [],
   "source": [
    "a = df_merged.dropna().groupby('langage').annais.max().values\n",
    "b = df_merged.dropna().groupby('langage').annais.min().values\n",
    "c = df_merged.dropna().groupby('langage').annais.keys"
   ]
  },
  {
   "cell_type": "code",
   "execution_count": 13,
   "metadata": {},
   "outputs": [
    {
     "name": "stderr",
     "output_type": "stream",
     "text": [
      "/home/campus-9/anaconda3/lib/python3.7/site-packages/ipykernel_launcher.py:4: RuntimeWarning: invalid value encountered in less\n",
      "  after removing the cwd from sys.path.\n"
     ]
    },
    {
     "data": {
      "text/plain": [
       "<matplotlib.axes._subplots.AxesSubplot at 0x7fa1b5a5ff10>"
      ]
     },
     "execution_count": 13,
     "metadata": {},
     "output_type": "execute_result"
    },
    {
     "data": {
      "image/png": "[encoded data removed]",
      "text/plain": [
       "<Figure size 864x360 with 1 Axes>"
      ]
     },
     "metadata": {
      "needs_background": "light"
     },
     "output_type": "display_data"
    }
   ],
   "source": [
    "(df_merged.groupby('langage')\n",
    "          .annais.max()[\n",
    "              df_merged.groupby('langage')\n",
    "                .annais.max().values < 1998]\n",
    "          .sort_values()\n",
    "          .plot(kind='bar', figsize=(12, 5)))"
   ]
  },
  {
   "cell_type": "code",
   "execution_count": null,
   "metadata": {},
   "outputs": [],
   "source": []
  },
  {
   "cell_type": "markdown",
   "metadata": {},
   "source": [
    "## spanish Folium"
   ]
  },
  {
   "cell_type": "code",
   "execution_count": 215,
   "metadata": {},
   "outputs": [],
   "source": [
    "import folium\n",
    "from folium.plugins import HeatMap\n",
    "from ipywidgets import interact\n",
    "import pickle\n",
    "\n",
    "dpts = pickle.load(open(\"dico_adress.pkl\",\"rb\"))"
   ]
  },
  {
   "cell_type": "code",
   "execution_count": 346,
   "metadata": {},
   "outputs": [],
   "source": [
    "espagnols = df_merged.dropna().loc[df_merged.dropna().langage == 'dutch']\n",
    "espagnols_nb = espagnols.groupby(['annais', 'dpt']).nombre.sum()"
   ]
  },
  {
   "cell_type": "code",
   "execution_count": 347,
   "metadata": {},
   "outputs": [],
   "source": [
    "years = sorted(espagnols.annais.unique())\n",
    "\n",
    "def f(i):\n",
    "    \n",
    "    print(years[i])\n",
    "    print(espagnols[espagnols.annais == years[i]]\n",
    "          .groupby('prenom').nombre.sum().sort_values(ascending=False)[:5])\n",
    "    \n",
    "    fig, ax = plt.subplots(figsize=(7, 2))\n",
    "    plt.title('Over time')\n",
    "    espagnols.groupby('annais').nombre.sum().plot(ax=ax)\n",
    "    ax.axvline(years[i], ls='--', lw=3, c='gray')\n",
    "    plt.show()\n",
    "    \n",
    "    data = np.array([(*dpts[k],v) for k, v in espagnols_nb[years[i]].items()])\n",
    "    \n",
    "    centre = [46.227638, 2.213749]\n",
    "    m = folium.Map(centre, zoom_start=5)\n",
    "    HeatMap(data, radius=40, blur=30).add_to(m)\n",
    "    return m;"
   ]
  },
  {
   "cell_type": "code",
   "execution_count": 348,
   "metadata": {},
   "outputs": [
    {
     "data": {
      "application/vnd.jupyter.widget-view+json": {
       "model_id": "6082c189375f47838b5fc548cb3cd26f",
       "version_major": 2,
       "version_minor": 0
      },
      "text/plain": [
       "interactive(children=(IntSlider(value=46, description='i', max=92), Output()), _dom_classes=('widget-interact'…"
      ]
     },
     "metadata": {},
     "output_type": "display_data"
    }
   ],
   "source": [
    "interact(f, i=(0, len(years) - 1));"
   ]
  },
  {
   "cell_type": "markdown",
   "metadata": {},
   "source": [
    "## Bretons et nom bretons"
   ]
  },
  {
   "cell_type": "code",
   "execution_count": 260,
   "metadata": {},
   "outputs": [],
   "source": [
    "bretagne = [22., 29., 35., 56.]\n",
    "bretons = df_merged.dropna().loc[df_merged.dropna().dpt.isin(bretagne)]"
   ]
  },
  {
   "cell_type": "code",
   "execution_count": 291,
   "metadata": {},
   "outputs": [
    {
     "data": {
      "image/png": "[encoded data removed]",
      "text/plain": [
       "<Figure size 432x288 with 1 Axes>"
      ]
     },
     "metadata": {
      "needs_background": "light"
     },
     "output_type": "display_data"
    }
   ],
   "source": [
    "bretons[bretons.langage.str.contains('breton')].groupby(['annais']).nombre.sum().divide(\n",
    "            bretons.groupby(['annais']).nombre.sum()).plot()\n",
    "plt.title('Part des bretons qui ont un nom breton')\n",
    "plt.show()"
   ]
  },
  {
   "cell_type": "code",
   "execution_count": null,
   "metadata": {},
   "outputs": [],
   "source": []
  },
  {
   "cell_type": "code",
   "execution_count": 312,
   "metadata": {},
   "outputs": [
    {
     "data": {
      "text/plain": [
       "array(['english, biblical', 'arabic',\n",
       "       'english, french, spanish, biblical', 'biblical',\n",
       "       'english, jewish, biblical', 'english', 'french, italian',\n",
       "       'greek mythology (latinized)', 'german',\n",
       "       'ancient germanic, german',\n",
       "       'english, french, german, polish, russian, romanian, biblical',\n",
       "       'italian', 'turkish', nan, 'jewish', 'indian', 'italian, spanish',\n",
       "       'french', 'theology', 'greek mythology', 'dutch',\n",
       "       'english, romanian, russian', 'portuguese',\n",
       "       'french, german, greek, ancient greek', 'ancient greek',\n",
       "       'english, german, dutch, scandinavian', 'chinese',\n",
       "       'irish, scottish', 'spanish', 'english, scottish', 'basque',\n",
       "       'russian', 'japanese', 'danish, norwegian', 'history', 'scottish',\n",
       "       'english, german', 'english, french',\n",
       "       'italian, spanish, portuguese',\n",
       "       'bulgarian, macedonian, croatian, serbian',\n",
       "       'polish, slovene, albanian', 'finnish', 'czech',\n",
       "       'english, german, dutch',\n",
       "       'german, scandinavian, dutch, english, greek, portuguese, romanian, czech, hungarian, ancient greek',\n",
       "       'french, portuguese, hungarian', 'greek, ancient greek',\n",
       "       'romanian', 'spanish, italian', 'arabic, iranian', 'german, czech',\n",
       "       'late roman', 'ancient germanic', 'spanish, portuguese',\n",
       "       'egyptian mythology', 'portuguese, spanish',\n",
       "       'biblical, english, jewish', 'literature', 'scandinavian',\n",
       "       'german, greek, scandinavian, ancient greek',\n",
       "       'russian, bulgarian, romanian', 'slovene, czech, croatian',\n",
       "       'slovene', 'croatian, serbian', 'hungarian', 'croatian', 'polish',\n",
       "       'scottish, irish, english',\n",
       "       'french, english, german, scandinavian', 'breton',\n",
       "       'german, russian, scandinavian, bulgarian, slovene, romanian',\n",
       "       'polish, catalan',\n",
       "       'english, italian, spanish, portuguese, german, scandinavian, dutch, ancient roman',\n",
       "       'spanish, italian, portuguese', 'ancient roman, dutch',\n",
       "       'lithuanian', 'scottish, english', 'biblical, jewish', 'catalan',\n",
       "       'armenian', 'english, welsh mythology', 'german, portuguese',\n",
       "       'biblical (variant)', 'history, hungarian',\n",
       "       'english, italian, polish', 'german, romanian', 'ancient roman',\n",
       "       'french, english', 'iranian', 'judeo-christian legend',\n",
       "       'german, english', 'irish, english', 'english, dutch',\n",
       "       'english, french, german, hungarian, biblical', 'vietnamese',\n",
       "       'polish, russian', 'czech, ukrainian',\n",
       "       'slovene, serbian, croatian', 'russian, serbian', 'english, irish',\n",
       "       'serbian, slovak, croatian, czech',\n",
       "       'croatian, serbian, slovene, czech', 'german, french',\n",
       "       'german, italian, spanish, portuguese, french',\n",
       "       'ancient roman, english', 'irish', 'spanish, english',\n",
       "       'ancient germanic (latinized)', 'spanish, portuguese, italian',\n",
       "       'portuguese, polish, romanian', 'indian, hindu mythology',\n",
       "       'english, biblical, greek mythology', 'english, french, german',\n",
       "       'scandinavian, german', 'irish, irish mythology',\n",
       "       'english, italian, german, spanish, portuguese, romanian',\n",
       "       'french, romanian', 'breton, french',\n",
       "       'ancient roman, english, german, biblical',\n",
       "       'italian, english, german', 'italian, portuguese', 'welsh',\n",
       "       'czech, slovak, croatian, serbian, slovene',\n",
       "       'greek mythology, english',\n",
       "       'english, jewish, french, german, scandinavian, polish, czech, spanish, portuguese, romanian, biblical',\n",
       "       'italian, portuguese, spanish', 'english (modern)',\n",
       "       'english, jewish, french, russian, czech, biblical',\n",
       "       'ancient greek (latinized)', 'french, russian, english',\n",
       "       'bulgarian, serbian', 'russian, french', 'dutch, english',\n",
       "       'czech, russian, polish, german',\n",
       "       'french, provençal, catalan, polish', 'serbian, croatian',\n",
       "       'czech, serbian, croatian, slovak',\n",
       "       'welsh, english, welsh mythology', 'biblical, english',\n",
       "       'scandinavian, hungarian, russian, slovene', 'english, polish',\n",
       "       'jewish, biblical (variant)', 'norwegian',\n",
       "       'jewish, english, biblical',\n",
       "       'greek, spanish, portuguese, finnish, hungarian',\n",
       "       'english, german, french, scandinavian, biblical (variant)',\n",
       "       'german, scandinavian, czech, hungarian, romanian',\n",
       "       'english, french, italian', 'biblical, french, english',\n",
       "       'scandinavian, czech', 'swedish, danish', 'german, dutch',\n",
       "       'english, jewish, french, biblical', 'welsh, english', 'greek',\n",
       "       'english, german, dutch, polish',\n",
       "       'english, german, romanian, ancient roman, biblical', 'african',\n",
       "       'english, german, french, czech',\n",
       "       'scandinavian, dutch, czech, bulgarian, polish',\n",
       "       'english, german, italian, roman mythology',\n",
       "       'german, polish, french', 'dutch, scandinavian', 'danish',\n",
       "       'swedish', 'hungarian, romanian',\n",
       "       'english, french, german, spanish, portuguese, romanian, biblical',\n",
       "       'welsh mythology', 'english, scottish, welsh',\n",
       "       'german, scandinavian', 'russian, bulgarian', 'norse mythology',\n",
       "       'german, swedish', 'english, french, dutch', 'german, scottish',\n",
       "       'german, dutch, scandinavian', 'english, french, spanish',\n",
       "       'german, frisian, dutch', 'dutch, german',\n",
       "       'scandinavian, german, hungarian', 'english, german, french',\n",
       "       'greek mythology, french', 'english, german, dutch, french',\n",
       "       'spanish, portuguese, english, dutch, german', 'welsh, spanish',\n",
       "       'arabic, turkish', 'english, scandinavian, hungarian',\n",
       "       'german, jewish, biblical', 'romanian, bulgarian',\n",
       "       'basque, romanian', 'german, hungarian, spanish',\n",
       "       'english, italian, scandinavian, german, greek mythology (latinized)',\n",
       "       'spanish, portuguese, french, english', 'german, russian',\n",
       "       'russian, czech, croatian', 'english, dutch, scandinavian',\n",
       "       'polish, czech', 'finnish, hungarian',\n",
       "       'english, greek mythology (latinized), biblical',\n",
       "       'iranian, arabic', 'english, biblical (variant)',\n",
       "       'theology, biblical', 'english, french, german, polish, biblical',\n",
       "       'portuguese, catalan', 'scandinavian, german, czech',\n",
       "       'german, dutch, scandinavian, late roman',\n",
       "       'english, german, biblical', 'dutch, frisian', 'cornish',\n",
       "       'german, scandinavian, czech', 'english, french, biblical',\n",
       "       'croatian, slovene', 'spanish, french', 'serbian, macedonian',\n",
       "       'slovak, slovene, polish, dutch', 'french, german',\n",
       "       'roman mythology', 'hawaiian', 'hindu mythology',\n",
       "       'dutch, czech, slovene', 'danish, norwegian, english',\n",
       "       'swedish, finnish', 'polish, dutch, scandinavian',\n",
       "       'english, welsh', 'english, irish, scottish', 'bulgarian, russian',\n",
       "       'german, scandinavian, polish',\n",
       "       'german, hungarian, russian, serbian, bulgarian',\n",
       "       'scandinavian, finnish', 'bulgarian',\n",
       "       'english, french, german, dutch',\n",
       "       'english, spanish, italian, romanian, finnish',\n",
       "       'english, german, late roman', 'biblical, jewish, english',\n",
       "       'french, breton', 'english, dutch, french', 'english, romanian',\n",
       "       'russian, serbian, croatian, slovene', 'scandinavian, english',\n",
       "       'frisian, german, dutch', 'german, dutch, english',\n",
       "       'english, spanish, portuguese', 'french, romanian, german',\n",
       "       'ancient roman, english, biblical (variant)',\n",
       "       'welsh, finnish, hungarian',\n",
       "       'italian, portuguese, german, scandinavian, dutch, greek, polish, czech, romanian, english, finnish, icelandic',\n",
       "       'ancient roman, german, dutch, norwegian, danish, french, english, romanian',\n",
       "       'english, russian, biblical',\n",
       "       'ukrainian, croatian, serbian, finnish',\n",
       "       'english, french, german, russian, romanian, czech, slovene',\n",
       "       'czech, slovak, slovene', 'slovene, slovak',\n",
       "       'slovene, croatian, serbian', 'swedish, norwegian',\n",
       "       'greek, english, german, biblical', 'welsh mythology, english',\n",
       "       'english, german, czech, biblical',\n",
       "       'czech, russian, serbian, croatian', 'czech, serbian',\n",
       "       'english, italian', 'czech, slovak, russian, croatian, serbian',\n",
       "       'maori', 'english, french, irish', 'english, ancient greek',\n",
       "       'biblical, english, scandinavian', 'irish, scottish, english',\n",
       "       'serbian, croatian, hungarian', 'ancient greek, greek',\n",
       "       'english, greek', 'german, english, hungarian',\n",
       "       'history, romanian', 'portuguese, french', 'norwegian, danish',\n",
       "       'russian, scandinavian, hungarian, romanian',\n",
       "       'egyptian mythology (hellenized)', 'scandinavian, german, polish',\n",
       "       'welsh, welsh mythology', 'welsh, breton',\n",
       "       'irish, english, french, german',\n",
       "       'english, french, german, romanian, biblical',\n",
       "       'portuguese, esperanto', 'russian, czech, bulgarian, slovene',\n",
       "       'serbian, croatian, bulgarian, macedonian',\n",
       "       'english, german, scandinavian, biblical', 'ukrainian, esperanto',\n",
       "       'mythology, english', 'greek mythology (anglicized)',\n",
       "       'biblical, ancient roman',\n",
       "       'english, jewish, french, german, biblical', 'czech, bulgarian',\n",
       "       'slovak, czech, serbian', 'german, spanish, portuguese',\n",
       "       'far eastern mythology', 'ancient egyptian',\n",
       "       'english, german, french, biblical',\n",
       "       'english, french, german, czech', 'english, french, scandinavian',\n",
       "       'german, scandinavian, english', 'russian, polish, czech',\n",
       "       'spanish, italian, portuguese, scandinavian',\n",
       "       'scandinavian, dutch', 'german, hungarian',\n",
       "       'german, dutch, scandinavian, polish, czech, hungarian',\n",
       "       'ancient roman, english, biblical', 'hungarian, finnish', 'khmer',\n",
       "       'italian, english',\n",
       "       'arabic, greek, spanish, italian, portuguese, scandinavian',\n",
       "       'english, french, german, biblical', 'english, greek, biblical',\n",
       "       'english, french, scandinavian, hungarian, slovene, biblical',\n",
       "       'astronomy', 'french, english, german', 'czech, russian',\n",
       "       'german, scandinavian, polish, bulgarian, romanian, slovene',\n",
       "       'near eastern mythology (hellenized)', 'russian, ukrainian',\n",
       "       'scandinavian, romanian, czech, polish, serbian, croatian',\n",
       "       'english, french, german, scandinavian, biblical',\n",
       "       'ancient greek, biblical', 'ancient roman, biblical, english',\n",
       "       'welsh, english, french, celtic mythology',\n",
       "       'roman mythology, english',\n",
       "       'scandinavian, german, french, czech, russian, romanian',\n",
       "       'scandinavian, portuguese', 'bulgarian, macedonian',\n",
       "       'english, french, portuguese, spanish, romanian',\n",
       "       'scandinavian, german, hungarian, polish, czech, bulgarian, russian, croatian, serbian',\n",
       "       'english, hungarian', 'english, french, dutch, danish, swedish',\n",
       "       'russian, romanian', 'russian, czech, serbian, croatian',\n",
       "       'russian, czech', 'english, german, scandinavian',\n",
       "       'german, english, jewish', 'jewish, english', 'iranian, english',\n",
       "       'korean', 'croatian, serbian, slovene',\n",
       "       'italian, spanish, portuguese, romanian, english',\n",
       "       'italian, spanish, polish, czech, slovene, russian',\n",
       "       'italian, latvian', 'italian, german, portuguese, english',\n",
       "       'russian, polish, serbian, bulgarian, slovene',\n",
       "       'english, polish, german, italian', 'french, ancient greek',\n",
       "       'spanish, portuguese, slovene, bulgarian, romanian, croatian, serbian',\n",
       "       'near eastern mythology', 'russian, greek, ancient greek',\n",
       "       'english, italian, german, romanian, slovene',\n",
       "       'english, italian, romanian', 'russian, polish',\n",
       "       'english, italian, german, dutch, scandinavian, greek, hungarian, polish, russian, czech, bulgarian, icelandic',\n",
       "       'dutch, swedish, finnish', 'german, dutch, italian, spanish',\n",
       "       'greek, ancient greek (latinized)',\n",
       "       'ancient roman, italian, romanian',\n",
       "       'english, italian, french, german, polish, hungarian',\n",
       "       'polish, german, scandinavian',\n",
       "       'polish, czech, hungarian, german, spanish',\n",
       "       'irish, scottish, english, irish mythology',\n",
       "       'german, germanic mythology',\n",
       "       'english, italian, ancient roman, roman mythology',\n",
       "       'scandinavian, german, english',\n",
       "       'italian, portuguese, english, german',\n",
       "       'italian, spanish, portuguese, english',\n",
       "       'english, greek mythology (latinized)', 'english, ancient roman',\n",
       "       'italian, catalan', 'english, italian, spanish, scandinavian',\n",
       "       'german, danish, english', 'native american',\n",
       "       'english, german, italian, spanish, portuguese, romanian, ancient roman',\n",
       "       'greek mythology (latinized), italian',\n",
       "       'english, german, romanian',\n",
       "       'english, italian, german, dutch, romanian, ancient roman',\n",
       "       'italian, spanish, portuguese, romanian',\n",
       "       'polish, czech, romanian, italian', 'italian, english, polish',\n",
       "       'czech, slovak, romanian',\n",
       "       'english, spanish, italian, portuguese, romanian, russian, roman mythology',\n",
       "       'serbian, croatian, slovene', 'czech, russian, polish',\n",
       "       'czech, slovene', 'russian, bulgarian, macedonian',\n",
       "       'italian, spanish, russian, bulgarian, romanian, macedonian',\n",
       "       'english, german, italian', 'macedonian',\n",
       "       'english, german, swedish', 'danish, norwegian, german',\n",
       "       'english, spanish', 'celtic mythology',\n",
       "       'german, scandinavian, hungarian, czech',\n",
       "       'italian, spanish, english', 'italian, spanish, romanian, english',\n",
       "       'english, italian, spanish',\n",
       "       'biblical, english, ancient greek (latinized)',\n",
       "       'ancient greek, english',\n",
       "       'italian, spanish, portuguese, english, german, dutch, scandinavian, russian, czech',\n",
       "       'english, bulgarian', 'ancient roman, italian',\n",
       "       'italian, french, german', 'arabic, portuguese',\n",
       "       'italian, ancient roman',\n",
       "       'ancient roman, english, italian, hungarian',\n",
       "       'spanish, italian, ancient roman',\n",
       "       'italian, english, ancient roman',\n",
       "       'italian, spanish, portuguese, ancient roman',\n",
       "       'hungarian, slovene', 'english, portuguese', 'swedish, hungarian',\n",
       "       'portuguese, romanian', 'italian, hungarian',\n",
       "       'english, dutch, german', 'scandinavian, german, dutch',\n",
       "       'german, dutch, spanish', 'english, italian, spanish, portuguese',\n",
       "       'french, dutch', 'swedish, german, english', 'german, danish',\n",
       "       'norse mythology, scandinavian, german',\n",
       "       'finnish, polish, ukrainian, scandinavian, icelandic',\n",
       "       'german, dutch, scandinavian, portuguese, polish, finnish',\n",
       "       'ancient roman, spanish', 'ancient roman, english, spanish',\n",
       "       'frisian', 'polish, czech, dutch',\n",
       "       'english, italian, spanish, dutch',\n",
       "       'english, italian, spanish, russian, serbian',\n",
       "       'english, german, celtic mythology', 'basque, spanish',\n",
       "       'czech, russian, bulgarian, serbian, croatian',\n",
       "       'czech, serbian, croatian, slovene',\n",
       "       'czech, serbian, croatian, bulgarian', 'polish, hungarian',\n",
       "       'norwegian, danish, dutch', 'dutch, czech, polish',\n",
       "       'polish, english', 'latvian, croatian, serbian',\n",
       "       'english, polish, biblical',\n",
       "       'german, scandinavian, dutch, hungarian',\n",
       "       'spanish, portuguese, czech', 'serbian', 'hungarian, polish',\n",
       "       'english, german, spanish, portuguese, ancient roman, biblical',\n",
       "       'dutch, german, english, spanish, portuguese, ancient roman',\n",
       "       'czech, slovak, polish', 'thai', 'polish, scandinavian, hungarian',\n",
       "       'german, danish, norwegian', 'english, greek mythology',\n",
       "       'german, swedish, hungarian, croatian, serbian, slovene',\n",
       "       'german, slovene', 'german, danish, dutch, polish',\n",
       "       'scandinavian, russian, ukrainian, czech, polish, slovene',\n",
       "       'swedish, czech, russian, german', 'late roman, english',\n",
       "       'arabic, english', 'english, russian',\n",
       "       'scandinavian, german, russian', 'italian, late roman',\n",
       "       'italian, portuguese, english', 'polish, italian',\n",
       "       'english, near eastern mythology', 'icelandic',\n",
       "       'germanic mythology', 'english, spanish, portuguese, italian',\n",
       "       'ukrainian',\n",
       "       'italian, german, english, scandinavian, romanian, ancient roman',\n",
       "       'italian, spanish, ancient roman',\n",
       "       'german, dutch, scandinavian, czech, polish, romanian',\n",
       "       'german, dutch, scandinavian, spanish, portuguese, czech, polish',\n",
       "       'german, english, biblical', 'spanish, basque',\n",
       "       'spanish, portuguese, romanian', 'spanish, polish, romanian',\n",
       "       'german, scandinavian, serbian, croatian, romanian',\n",
       "       'spanish, russian', 'hungarian, scandinavian',\n",
       "       'italian, spanish, portuguese, romanian, ancient roman',\n",
       "       'croatian, slovene, serbian, lithuanian',\n",
       "       'czech, slovak, hungarian',\n",
       "       'italian, spanish, german, greek, russian, ancient roman',\n",
       "       'german, spanish, dutch', 'dutch, finnish',\n",
       "       'spanish, italian, portuguese, romanian, polish',\n",
       "       'english, scandinavian, greek, biblical',\n",
       "       'english, german, scandinavian, dutch, italian, spanish, portuguese, czech, croatian, slovak, ancient roman',\n",
       "       'czech, polish', 'english, greek mythology, ancient greek',\n",
       "       'esperanto', 'danish, swedish', 'english, german, czech',\n",
       "       'romanian, slovene', 'czech, russian, italian',\n",
       "       'spanish, late roman', 'english, italian, portuguese, romanian',\n",
       "       'irish mythology', 'polish, italian, spanish, portuguese',\n",
       "       'russian, english', 'irish, english, scandinavian',\n",
       "       'norwegian, swedish', 'italian, spanish, romanian',\n",
       "       'ukrainian, russian',\n",
       "       'english, spanish, portuguese, ancient roman',\n",
       "       'english, german, spanish, portuguese, romanian, hungarian, ancient roman',\n",
       "       'english, spanish, italian, polish, ancient roman',\n",
       "       'ancient greek, greek, polish', 'english, german, greek',\n",
       "       'greek mythology, english, german',\n",
       "       'english, italian, scandinavian, polish, late roman',\n",
       "       'late roman, italian', 'english, ancient roman, biblical',\n",
       "       'russian, polish, czech, slovak', 'polish, czech, russian',\n",
       "       'english, italian, biblical', 'biblical (variant), english',\n",
       "       'english, italian, late roman',\n",
       "       'italian, german, polish, czech, croatian, late roman',\n",
       "       'greek mythology, roman mythology',\n",
       "       'english, scandinavian, german, hungarian, italian, spanish, portuguese',\n",
       "       'english, spanish, romanian', 'russian, slovene',\n",
       "       'russian, ancient roman',\n",
       "       'swedish, german, italian, spanish, polish',\n",
       "       'english, italian, spanish, portuguese, romanian, polish, czech',\n",
       "       'greek mythology, greek, english',\n",
       "       'italian, portuguese, croatian, german, ancient roman',\n",
       "       'italian, spanish, portuguese, romanian, english, german, ancient roman, roman mythology',\n",
       "       'italian, romanian, czech, slovene',\n",
       "       'norwegian, swedish, italian, greek', 'german, danish, dutch',\n",
       "       'english, italian, spanish, portuguese, romanian',\n",
       "       'english, greek, german, italian', 'italian, polish, romanian',\n",
       "       'german, english, dutch', 'russian, czech, bulgarian',\n",
       "       'english, scandinavian, german', 'biblical, ancient greek',\n",
       "       'jewish, biblical', 'german, finnish, serbian, croatian, slovene',\n",
       "       'russian, slovak, bulgarian, romanian, spanish, portuguese, italian, english, ancient roman',\n",
       "       'russian, serbian, croatian, slovene, german',\n",
       "       'scandinavian, russian, polish',\n",
       "       'italian, spanish, portuguese, swedish, romanian, polish',\n",
       "       'spanish, portuguese, italian, finnish, polish',\n",
       "       'bulgarian, czech, slovak, romanian',\n",
       "       'english, greek, ancient greek', 'english, swedish',\n",
       "       'italian, russian, romanian, ancient roman',\n",
       "       'italian, spanish, romanian, ancient roman',\n",
       "       'russian, greek, bulgarian', 'russian, english, german',\n",
       "       'russian, czech, scandinavian, german, hungarian',\n",
       "       'english, italian, scandinavian',\n",
       "       'english, italian, spanish, portuguese, danish, swedish, romanian, ancient roman',\n",
       "       'english, danish, ancient roman', 'english, native american',\n",
       "       'greek, english', 'english, spanish, italian, portuguese'],\n",
       "      dtype=object)"
      ]
     },
     "execution_count": 312,
     "metadata": {},
     "output_type": "execute_result"
    }
   ],
   "source": [
    "df_merged.langage.unique()"
   ]
  },
  {
   "cell_type": "code",
   "execution_count": null,
   "metadata": {},
   "outputs": [],
   "source": []
  },
  {
   "cell_type": "code",
   "execution_count": null,
   "metadata": {},
   "outputs": [],
   "source": []
  },
  {
   "cell_type": "code",
   "execution_count": null,
   "metadata": {},
   "outputs": [],
   "source": []
  },
  {
   "cell_type": "code",
   "execution_count": null,
   "metadata": {},
   "outputs": [],
   "source": []
  },
  {
   "cell_type": "code",
   "execution_count": null,
   "metadata": {},
   "outputs": [],
   "source": []
  },
  {
   "cell_type": "code",
   "execution_count": null,
   "metadata": {},
   "outputs": [],
   "source": []
  },
  {
   "cell_type": "code",
   "execution_count": null,
   "metadata": {},
   "outputs": [],
   "source": []
  }
 ],
 "metadata": {
  "kernelspec": {
   "display_name": "Python 3",
   "language": "python",
   "name": "python3"
  },
  "language_info": {
   "codemirror_mode": {
    "name": "ipython",
    "version": 3
   },
   "file_extension": ".py",
   "mimetype": "text/x-python",
   "name": "python",
   "nbconvert_exporter": "python",
   "pygments_lexer": "ipython3",
   "version": "3.7.4"
  },
  "toc": {
   "base_numbering": 1,
   "nav_menu": {},
   "number_sections": true,
   "sideBar": true,
   "skip_h1_title": false,
   "title_cell": "Table of Contents",
   "title_sidebar": "Contents",
   "toc_cell": false,
   "toc_position": {},
   "toc_section_display": true,
   "toc_window_display": false
  }
 },
 "nbformat": 4,
 "nbformat_minor": 2
}
